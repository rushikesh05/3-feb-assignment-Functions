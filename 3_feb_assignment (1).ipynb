{
  "nbformat": 4,
  "nbformat_minor": 0,
  "metadata": {
    "colab": {
      "provenance": []
    },
    "kernelspec": {
      "name": "python3",
      "display_name": "Python 3"
    },
    "language_info": {
      "name": "python"
    }
  },
  "cells": [
    {
      "cell_type": "markdown",
      "source": [
        "##Q1. Which keyword is used to create a function? Create a function to return a list of odd numbers in therange of 1 to 25.\n"
      ],
      "metadata": {
        "id": "GuLgcrnc0LxP"
      }
    },
    {
      "cell_type": "markdown",
      "source": [
        "###The keyword used to create a function in Python programming  is \"def\""
      ],
      "metadata": {
        "id": "76F_QUtJ0uij"
      }
    },
    {
      "cell_type": "code",
      "execution_count": 2,
      "metadata": {
        "id": "-fNVFa040GVG"
      },
      "outputs": [],
      "source": [
        "def odd_numbers():\n",
        "    n = []\n",
        "    for num in range(1, 26):\n",
        "        if num % 2 != 0:\n",
        "            n.append(num)\n",
        "    return n\n"
      ]
    },
    {
      "cell_type": "code",
      "source": [
        "odd_numbers()"
      ],
      "metadata": {
        "colab": {
          "base_uri": "https://localhost:8080/"
        },
        "id": "tOHuzI-g1h8X",
        "outputId": "d8fc2f62-4703-484d-ab80-97c35107aecb"
      },
      "execution_count": 3,
      "outputs": [
        {
          "output_type": "execute_result",
          "data": {
            "text/plain": [
              "[1, 3, 5, 7, 9, 11, 13, 15, 17, 19, 21, 23, 25]"
            ]
          },
          "metadata": {},
          "execution_count": 3
        }
      ]
    },
    {
      "cell_type": "markdown",
      "source": [
        "#Q2. Why *args and **kwargs is used in some functions? Create a **function** each for *args and ***kwargs to demonstrate their use.\n",
        "\n",
        "\n",
        "\n"
      ],
      "metadata": {
        "id": "woxLjdnf15V_"
      }
    },
    {
      "cell_type": "markdown",
      "source": [
        "\n",
        "\n",
        "##Ans:\n",
        "###*args is used to pass a variable number of positional arguments to a function. When *args is used in a function definition, it allows the function to accept any number of positional arguments. These arguments are then collected into a tuple, which can be accessed inside the function using the args variable. Here's an example:"
      ],
      "metadata": {
        "id": "91UyAt5j3CV6"
      }
    },
    {
      "cell_type": "code",
      "source": [
        "def test1(*args):\n",
        "    for i in args:\n",
        "        print(i)\n"
      ],
      "metadata": {
        "id": "tp-020CY1zTy"
      },
      "execution_count": 9,
      "outputs": []
    },
    {
      "cell_type": "code",
      "source": [
        "test1(1, 2, 3,\"Rushi\",78.99)"
      ],
      "metadata": {
        "colab": {
          "base_uri": "https://localhost:8080/"
        },
        "id": "JyDI2ll33SNh",
        "outputId": "5375cd53-ff6f-4bec-ecb6-c45782780eaa"
      },
      "execution_count": 10,
      "outputs": [
        {
          "output_type": "stream",
          "name": "stdout",
          "text": [
            "1\n",
            "2\n",
            "3\n",
            "Rushi\n",
            "78.99\n"
          ]
        }
      ]
    },
    {
      "cell_type": "markdown",
      "source": [
        "### **kwargs, on the other hand, is used to pass a variable number of keyword arguments to a function. When **kwargs is used in a function definition, it allows the function to accept any number of keyword arguments, which are then collected into a dictionary. This dictionary can be accessed inside the function using the kwargs variable. Here's an example:"
      ],
      "metadata": {
        "id": "4zFVZFfI3jZb"
      }
    },
    {
      "cell_type": "code",
      "source": [
        "def test2(**kwargs):\n",
        "    for key, value in kwargs.items():\n",
        "        print(f\"{key}: {value}\")\n"
      ],
      "metadata": {
        "id": "jIN7nU_F3WPt"
      },
      "execution_count": 11,
      "outputs": []
    },
    {
      "cell_type": "code",
      "source": [
        "test2(name=\"Rushikesh\", age=21, course=\"Data Science Masters\")"
      ],
      "metadata": {
        "colab": {
          "base_uri": "https://localhost:8080/"
        },
        "id": "PaIfzrcY4qcu",
        "outputId": "1f92208a-7d50-419f-fac6-17ac6430302c"
      },
      "execution_count": 12,
      "outputs": [
        {
          "output_type": "stream",
          "name": "stdout",
          "text": [
            "name: Rushikesh\n",
            "age: 21\n",
            "course: Data Science Masters\n"
          ]
        }
      ]
    },
    {
      "cell_type": "markdown",
      "source": [
        "##Q3. What is an iterator in python? Name the method used to initialise the iterator object and the method used for iteration. Use these methods to print the first five elements of the given list [2, 4, 6, 8, 10, 12, 14, 16,18, 20]."
      ],
      "metadata": {
        "id": "TwFqv3oL47D1"
      }
    },
    {
      "cell_type": "markdown",
      "source": [
        "##Ans: \n",
        "#### Iterator in Python is an object that is used to iterate over iterable objects like lists, tuples, dicts, and sets.An iterator is an object that contains a countable number of values.\n",
        "\n",
        "###An iterator is an object that can be iterated upon, meaning that you can traverse through all the values.\n",
        "\n",
        "###Technically, in Python, an iterator is an object which implements the iterator protocol, which consist of the methods __iter__() and __next__().\n",
        "\n",
        "### 1) __iter__() : The iter() function takes an iterable object as its argument and returns an iterator object.\n",
        "\n",
        "### 2) __next__():  The next() function takes an iterator object as its argument and returns the next value from the iterator."
      ],
      "metadata": {
        "id": "8KocPqva55_p"
      }
    },
    {
      "cell_type": "code",
      "source": [
        "lst = [2, 4, 6, 8, 10, 12, 14, 16, 18, 20]\n",
        "iteration = iter(lst)\n",
        "\n",
        "for i in range(5):\n",
        "    print(next(iteration))\n"
      ],
      "metadata": {
        "colab": {
          "base_uri": "https://localhost:8080/"
        },
        "id": "WAtjIPbC4wSt",
        "outputId": "ae5a7e94-a725-47f7-9474-4add4d83828e"
      },
      "execution_count": 14,
      "outputs": [
        {
          "output_type": "stream",
          "name": "stdout",
          "text": [
            "2\n",
            "4\n",
            "6\n",
            "8\n",
            "10\n"
          ]
        }
      ]
    },
    {
      "cell_type": "markdown",
      "source": [
        "#Q4. What is a generator function in python? .\n",
        "\n",
        "##Ans\n",
        "###A generator function in Python is a special type of function that generates an iterator when called. It is defined like a normal function, but instead of returning a value, it uses the yield keyword to produce a series of values that can be iterated over.\n",
        "\n",
        "#Why yield keyword is used? Give an example of a generator function\n",
        "\n",
        "###The yield keyword is useful for generating large sequences of values that may be too memory-intensive to generate all at once. By producing values one at a time as they are needed, generators can generate sequences of arbitrary length without running out of memory.\n",
        "\n",
        "\n",
        "###The yield keyword is also useful for generating infinite sequences of values, such as the Fibonacci sequence or an endless stream of random numbers. In these cases, the yield keyword can be used to produce values indefinitely, without ever reaching the end of the function."
      ],
      "metadata": {
        "id": "d5_SXdTo7YKl"
      }
    },
    {
      "cell_type": "code",
      "source": [
        "def fibonacci(n):\n",
        "    a, b = 0, 1\n",
        "    for i in range(n):\n",
        "        yield a\n",
        "        a, b = b, a + b\n"
      ],
      "metadata": {
        "id": "9HpH-3VR6wxd"
      },
      "execution_count": 20,
      "outputs": []
    },
    {
      "cell_type": "code",
      "source": [
        "for i in fibonacci(21):\n",
        "    print(i)"
      ],
      "metadata": {
        "colab": {
          "base_uri": "https://localhost:8080/"
        },
        "id": "qIH5sPF79Kdd",
        "outputId": "d0de3308-e087-4eb2-af0a-31e14fc8b6af"
      },
      "execution_count": 25,
      "outputs": [
        {
          "output_type": "stream",
          "name": "stdout",
          "text": [
            "0\n",
            "1\n",
            "1\n",
            "2\n",
            "3\n",
            "5\n",
            "8\n",
            "13\n",
            "21\n",
            "34\n",
            "55\n",
            "89\n",
            "144\n",
            "233\n",
            "377\n",
            "610\n",
            "987\n",
            "1597\n",
            "2584\n",
            "4181\n",
            "6765\n"
          ]
        }
      ]
    },
    {
      "cell_type": "markdown",
      "source": [
        "###Q5. Create a generator function for prime numbers less than 1000. Use the next() method to print the first 20 prime numbers."
      ],
      "metadata": {
        "id": "NcCJCQfB-Mby"
      }
    },
    {
      "cell_type": "code",
      "source": [
        "def primes():\n",
        "    num = 2\n",
        "    while True:\n",
        "        for i in range(2, num):\n",
        "            if num % i == 0:\n",
        "                break\n",
        "        else:\n",
        "            yield num\n",
        "        num += 1\n",
        "        if num >= 1000:\n",
        "            break\n"
      ],
      "metadata": {
        "id": "Gx4-FeJn9OEO"
      },
      "execution_count": 39,
      "outputs": []
    },
    {
      "cell_type": "code",
      "source": [
        "##Use the next() method to print the first 20 prime numbers.\n",
        "prime_generator = primes()\n",
        "for i in range(20):\n",
        "    print(next(prime_generator))\n"
      ],
      "metadata": {
        "colab": {
          "base_uri": "https://localhost:8080/"
        },
        "id": "O2G7hwRz-2Rx",
        "outputId": "b0b38900-7f2e-44dc-9328-93352da86bb7"
      },
      "execution_count": 40,
      "outputs": [
        {
          "output_type": "stream",
          "name": "stdout",
          "text": [
            "2\n",
            "3\n",
            "5\n",
            "7\n",
            "11\n",
            "13\n",
            "17\n",
            "19\n",
            "23\n",
            "29\n",
            "31\n",
            "37\n",
            "41\n",
            "43\n",
            "47\n",
            "53\n",
            "59\n",
            "61\n",
            "67\n",
            "71\n"
          ]
        }
      ]
    },
    {
      "cell_type": "code",
      "source": [],
      "metadata": {
        "id": "_GUFCwkEAHdE"
      },
      "execution_count": null,
      "outputs": []
    }
  ]
}